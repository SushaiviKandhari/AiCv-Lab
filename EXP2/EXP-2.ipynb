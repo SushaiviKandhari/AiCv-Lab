{
 "cells": [
  {
   "metadata": {
    "ExecuteTime": {
     "end_time": "2025-02-19T05:16:04.878495Z",
     "start_time": "2025-02-19T05:15:59.383126Z"
    }
   },
   "cell_type": "code",
   "source": [
    "import numpy as np\n",
    "import pandas as pd"
   ],
   "id": "36a2861d68cd67c0",
   "outputs": [],
   "execution_count": 2
  },
  {
   "metadata": {
    "ExecuteTime": {
     "end_time": "2025-02-19T05:17:23.200319Z",
     "start_time": "2025-02-19T05:17:23.180709Z"
    }
   },
   "cell_type": "code",
   "source": [
    "data=pd.DataFrame(data=pd.read_csv('demo.csv'))\n",
    "print(data)"
   ],
   "id": "723966bb0bb4a5e4",
   "outputs": [
    {
     "name": "stdout",
     "output_type": "stream",
     "text": [
      "    Sunny  Warm Normal   Strong  Warm.1    Same  Yes\n",
      "0   Sunny  Warm    High  Strong    Warm    Same  Yes\n",
      "1  Rainy   Cold    High  Strong    Warm  Change   No\n",
      "2   Sunny  Warm    High  Strong    Cool  Change  Yes\n"
     ]
    }
   ],
   "execution_count": 4
  },
  {
   "metadata": {
    "ExecuteTime": {
     "end_time": "2025-02-19T05:18:19.002228Z",
     "start_time": "2025-02-19T05:18:18.987895Z"
    }
   },
   "cell_type": "code",
   "source": [
    "concepts=np.array(data.iloc[:,0:-1])\n",
    "print(concepts)"
   ],
   "id": "52f7c69419522351",
   "outputs": [
    {
     "name": "stdout",
     "output_type": "stream",
     "text": [
      "[['Sunny' 'Warm' 'High' 'Strong ' 'Warm' 'Same']\n",
      " ['Rainy ' 'Cold' 'High' 'Strong ' 'Warm' 'Change']\n",
      " ['Sunny' 'Warm' 'High' 'Strong ' 'Cool' 'Change']]\n"
     ]
    }
   ],
   "execution_count": 5
  },
  {
   "metadata": {
    "ExecuteTime": {
     "end_time": "2025-02-19T05:18:58.708087Z",
     "start_time": "2025-02-19T05:18:58.701390Z"
    }
   },
   "cell_type": "code",
   "source": [
    "target=np.array(data.iloc[:,-1])\n",
    "print(target)"
   ],
   "id": "d51d69616e372ef3",
   "outputs": [
    {
     "name": "stdout",
     "output_type": "stream",
     "text": [
      "['Yes' 'No' 'Yes']\n"
     ]
    }
   ],
   "execution_count": 6
  },
  {
   "cell_type": "code",
   "id": "initial_id",
   "metadata": {
    "collapsed": true,
    "ExecuteTime": {
     "end_time": "2025-02-19T05:18:59.565720Z",
     "start_time": "2025-02-19T05:18:59.553568Z"
    }
   },
   "source": [
    "def learn(concepts, target):\n",
    "    # Initialize S0 with the first instance from concepts\n",
    "    specific_h = concepts[0].copy()\n",
    "\n",
    "    print(\"\\nInitialization of specific_h and general_h\")\n",
    "    print(specific_h)\n",
    "\n",
    "    # Corrected list comprehension for general_h initialization\n",
    "    general_h = [[\"?\" for _ in range(len(specific_h))] for _ in range(len(specific_h))]\n",
    "\n",
    "    print(general_h)\n",
    "\n",
    "    # The Learning Iterations\n",
    "    for i, h in enumerate(concepts):\n",
    "        # Checking if the hypothesis has a positive target\n",
    "        if target[i] == \"Yes\":\n",
    "            for x in range(len(specific_h)):\n",
    "                # Change value in S & G only if values change\n",
    "                if h[x] != specific_h[x]:\n",
    "                    specific_h[x] = '?'\n",
    "                    general_h[x][x] = '?'\n",
    "\n",
    "        # Checking if the hypothesis has a negative target\n",
    "        if target[i] == \"No\":\n",
    "            for x in range(len(specific_h)):\n",
    "                # For negative hypothesis change values only in G\n",
    "                if h[x] != specific_h[x]:\n",
    "                    general_h[x][x] = specific_h[x]\n",
    "                else:\n",
    "                    general_h[x][x] = '?'\n",
    "\n",
    "        print(\"\\nSteps of Elimination Algorithm\", i + 1)\n",
    "        print(specific_h)\n",
    "        print(general_h)\n",
    "\n",
    "    # Remove unchanged general_h rows (i.e., all '?')\n",
    "    general_h = [h for h in general_h if h != ['?'] * len(specific_h)]\n",
    "\n",
    "    # Return final values\n",
    "    return specific_h, general_h\n",
    "\n",
    "\n",
    "\n",
    "s_final,g_final = learn(concepts, target)\n",
    "print(\"\\nFinal Specific_h:\", s_final, sep=\"\\n\")\n",
    "print(\"\\nFinal General_h:\", g_final, sep=\"\\n\")"
   ],
   "outputs": [
    {
     "name": "stdout",
     "output_type": "stream",
     "text": [
      "\n",
      "Initialization of specific_h and general_h\n",
      "['Sunny' 'Warm' 'High' 'Strong ' 'Warm' 'Same']\n",
      "[['?', '?', '?', '?', '?', '?'], ['?', '?', '?', '?', '?', '?'], ['?', '?', '?', '?', '?', '?'], ['?', '?', '?', '?', '?', '?'], ['?', '?', '?', '?', '?', '?'], ['?', '?', '?', '?', '?', '?']]\n",
      "\n",
      "Steps of Elimination Algorithm 1\n",
      "['Sunny' 'Warm' 'High' 'Strong ' 'Warm' 'Same']\n",
      "[['?', '?', '?', '?', '?', '?'], ['?', '?', '?', '?', '?', '?'], ['?', '?', '?', '?', '?', '?'], ['?', '?', '?', '?', '?', '?'], ['?', '?', '?', '?', '?', '?'], ['?', '?', '?', '?', '?', '?']]\n",
      "\n",
      "Steps of Elimination Algorithm 2\n",
      "['Sunny' 'Warm' 'High' 'Strong ' 'Warm' 'Same']\n",
      "[['Sunny', '?', '?', '?', '?', '?'], ['?', 'Warm', '?', '?', '?', '?'], ['?', '?', '?', '?', '?', '?'], ['?', '?', '?', '?', '?', '?'], ['?', '?', '?', '?', '?', '?'], ['?', '?', '?', '?', '?', 'Same']]\n",
      "\n",
      "Steps of Elimination Algorithm 3\n",
      "['Sunny' 'Warm' 'High' 'Strong ' '?' '?']\n",
      "[['Sunny', '?', '?', '?', '?', '?'], ['?', 'Warm', '?', '?', '?', '?'], ['?', '?', '?', '?', '?', '?'], ['?', '?', '?', '?', '?', '?'], ['?', '?', '?', '?', '?', '?'], ['?', '?', '?', '?', '?', '?']]\n",
      "\n",
      "Final Specific_h:\n",
      "['Sunny' 'Warm' 'High' 'Strong ' '?' '?']\n",
      "\n",
      "Final General_h:\n",
      "[['Sunny', '?', '?', '?', '?', '?'], ['?', 'Warm', '?', '?', '?', '?']]\n"
     ]
    }
   ],
   "execution_count": 7
  },
  {
   "metadata": {},
   "cell_type": "code",
   "outputs": [],
   "execution_count": null,
   "source": "",
   "id": "befdecb09484c679"
  }
 ],
 "metadata": {
  "kernelspec": {
   "display_name": "Python 3",
   "language": "python",
   "name": "python3"
  },
  "language_info": {
   "codemirror_mode": {
    "name": "ipython",
    "version": 2
   },
   "file_extension": ".py",
   "mimetype": "text/x-python",
   "name": "python",
   "nbconvert_exporter": "python",
   "pygments_lexer": "ipython2",
   "version": "2.7.6"
  }
 },
 "nbformat": 4,
 "nbformat_minor": 5
}
