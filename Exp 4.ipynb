{
 "cells": [
  {
   "cell_type": "markdown",
   "id": "7a0d7a0b-14c0-4ea9-8a26-5cce0117ecf3",
   "metadata": {},
   "source": [
    "# Implement the data Processing , Data Visualization and Data Wrangling on any real-world problem i.e Covid_19 dataset to view the active cases on the world Map using Choropleth and also plot the cases."
   ]
  },
  {
   "cell_type": "markdown",
   "id": "74d74f76-1a9d-450e-bb96-a9a4c61e53f8",
   "metadata": {},
   "source": [
    "Visualization of Choropleth map to show the details of COVID-19 cases for Indian States and Union Territories.It displays- total cases, active cases, \n",
    "and total deaths in each Indian State. Try to render a map that is as interactive as possible.\n",
    "\n",
    "- Geospatial Data Visualization and analysis using Folium library.\n",
    "- COVID-19 data is accessed through an API.\n",
    "- Coordinates for Indian States are traced using Geo.JSON."
   ]
  },
  {
   "cell_type": "code",
   "execution_count": null,
   "id": "29b22360-d17c-42a2-bd4c-602062e9338a",
   "metadata": {},
   "outputs": [],
   "source": [
    "Folium build on the data wrangling strengths of the Python ecosystem and the mapping strengths of the leafiet.js library. \n",
    "    \n",
    "Folium makes it easy to visualize data that is been manipulated in Python on an interactive leafiet map. It enables both the binding of data to a \n",
    "map for choropleth visuallizations as well as passing rich vector/raster/HTML visualizations as markers on the map. A chorpleth map is a themetic map \n",
    "in which areas are shaded or patterned in proportion to the measurement of the stattiscal varible being displayed on the map such as population \n",
    "density or per capita income.\n",
    "\n",
    "The library has a number of built-in tiesets from OpenStreetMap, Mapbox, and Stamen and supports custom tiesets with Mapbox or Cloudmade API keys,\n",
    "folium supports both Image, VIdeo, GeoJSON and TopoJSON overdays."
   ]
  },
  {
   "cell_type": "markdown",
   "id": "907fcede-fb84-43db-aeb3-80ab62e81ce3",
   "metadata": {},
   "source": [
    "# Import required modules/libraries."
   ]
  },
  {
   "cell_type": "code",
   "execution_count": 1,
   "id": "793a9651-d7a8-4f1d-984d-db862bf49d88",
   "metadata": {},
   "outputs": [
    {
     "name": "stdout",
     "output_type": "stream",
     "text": [
      "Requirement already satisfied: folium in c:\\users\\laksh\\anaconda3\\lib\\site-packages (0.19.5)Note: you may need to restart the kernel to use updated packages.\n",
      "\n",
      "Requirement already satisfied: branca>=0.6.0 in c:\\users\\laksh\\anaconda3\\lib\\site-packages (from folium) (0.8.1)\n",
      "Requirement already satisfied: jinja2>=2.9 in c:\\users\\laksh\\anaconda3\\lib\\site-packages (from folium) (3.1.4)\n",
      "Requirement already satisfied: numpy in c:\\users\\laksh\\anaconda3\\lib\\site-packages (from folium) (1.26.4)\n",
      "Requirement already satisfied: requests in c:\\users\\laksh\\anaconda3\\lib\\site-packages (from folium) (2.32.2)\n",
      "Requirement already satisfied: xyzservices in c:\\users\\laksh\\anaconda3\\lib\\site-packages (from folium) (2022.9.0)\n",
      "Requirement already satisfied: MarkupSafe>=2.0 in c:\\users\\laksh\\anaconda3\\lib\\site-packages (from jinja2>=2.9->folium) (2.1.3)\n",
      "Requirement already satisfied: charset-normalizer<4,>=2 in c:\\users\\laksh\\anaconda3\\lib\\site-packages (from requests->folium) (2.0.4)\n",
      "Requirement already satisfied: idna<4,>=2.5 in c:\\users\\laksh\\anaconda3\\lib\\site-packages (from requests->folium) (3.7)\n",
      "Requirement already satisfied: urllib3<3,>=1.21.1 in c:\\users\\laksh\\anaconda3\\lib\\site-packages (from requests->folium) (2.2.2)\n",
      "Requirement already satisfied: certifi>=2017.4.17 in c:\\users\\laksh\\anaconda3\\lib\\site-packages (from requests->folium) (2024.7.4)\n"
     ]
    }
   ],
   "source": [
    "pip install folium"
   ]
  },
  {
   "cell_type": "code",
   "execution_count": null,
   "id": "1f24483c-a8fc-4fba-85fd-a5d362ff2414",
   "metadata": {},
   "outputs": [],
   "source": [
    "import json- This imports the built-in \"json\" module for working with JSON data.\n",
    "\n",
    "import requests- This imports the \"requests\" library for making HTTP requests and interacting with APIs."
   ]
  },
  {
   "cell_type": "code",
   "execution_count": 3,
   "id": "04a81344-8f09-45b1-87f0-177d63a61f46",
   "metadata": {},
   "outputs": [],
   "source": [
    "import folium as flm\n",
    "from folium import plugins\n",
    "import pandas as pd\n",
    "import json\n",
    "import requests"
   ]
  },
  {
   "cell_type": "markdown",
   "id": "bf8d7221-1782-49d9-a992-20a30ee18d18",
   "metadata": {},
   "source": [
    "# Loading Geo-JSON data"
   ]
  },
  {
   "cell_type": "code",
   "execution_count": null,
   "id": "1a7175f1-111b-415d-ab3e-084a95ca8f96",
   "metadata": {},
   "outputs": [],
   "source": [
    "This data consists of co-ordinates which is used to plot the map"
   ]
  },
  {
   "cell_type": "code",
   "execution_count": 6,
   "id": "aab5954d-9948-439e-871c-dd421524e41d",
   "metadata": {},
   "outputs": [],
   "source": [
    "with open(r'Indian_States.json') as f:\n",
    "    geojson_states = json.load(f)"
   ]
  },
  {
   "cell_type": "markdown",
   "id": "63a299d3-cc09-4422-9596-23884a2866b3",
   "metadata": {},
   "source": [
    "# Assigning name of states to a key called 'id'"
   ]
  },
  {
   "cell_type": "code",
   "execution_count": 8,
   "id": "2d5619b2-3b83-4d45-9a0c-5d94dc77d55c",
   "metadata": {},
   "outputs": [],
   "source": [
    "for i in geojson_states['features']:\n",
    "    i['id']=i['properties']['NAME_1']"
   ]
  },
  {
   "cell_type": "code",
   "execution_count": 10,
   "id": "cab50c4c-066b-4dae-a1cb-75368fdfb5d1",
   "metadata": {},
   "outputs": [],
   "source": [
    "# STEP-1: Load Covid-19 Data from Local JSON file\n",
    "with open(\"data.json\",\"r\") as file:\n",
    "    covid_current = json.load(file)"
   ]
  },
  {
   "cell_type": "code",
   "execution_count": 14,
   "id": "8e509969-6f0a-4a8c-85e9-a0ae2825a0f1",
   "metadata": {},
   "outputs": [],
   "source": [
    "# STEP-2: Convert JSON Data to Pandas Dataframe\n",
    "\"\"\"Instead of using the deprecated .append() method, we create a list of dicyionaries  to store state-wise COVID-19 Data.\n",
    "The first entry in the JSON (total cases for the entire country) is skipped.\n",
    "We only keep data for individual states, exclusing \"State Unassigned\".\n",
    "Finally, the list is converted into a Pandas DataFrame for Further Processing.\"\"\"\n",
    "\n",
    "import pandas as pd\n",
    "# Create a list of dictionaries instead of using append()\n",
    "data_list=[]\n",
    "for state_data in covid_current[\"statewise\"][1:]: \n",
    "    if state_data[\"state\"] != \"State Unassigned\":\n",
    "        data_list.append({\n",
    "            \"State\": state_data[\"state\"],\n",
    "            \"Total Cases\": int(state_data[\"confirmed\"]),\n",
    "            \"Active Cases\": int(state_data[\"active\"]),\n",
    "            \"Deaths\": int(state_data[\"deaths\"])\n",
    "        })\n",
    "# Convert the list into a Dataframe\n",
    "df_covid = pd.DataFrame(data_list)"
   ]
  },
  {
   "cell_type": "code",
   "execution_count": 16,
   "id": "dd22d85d-7f2f-4ede-9b15-55fc70b449d2",
   "metadata": {},
   "outputs": [],
   "source": [
    "df_covid.rename(columns={\n",
    "    \"Total Cases\": \"total_case\",\n",
    "    \"Active Cases\": \"active_case\",\n",
    "    \"Deaths\": \"total_deaths\"\n",
    "}, inplace=True)"
   ]
  },
  {
   "cell_type": "code",
   "execution_count": null,
   "id": "1c3ecb1b-da0d-49a7-96b7-7f77901d82be",
   "metadata": {},
   "outputs": [],
   "source": [
    "# STEP-3: Verify and Correct State Name Mismathches\n",
    "\"\"\"This Step ensures that all state names in the dataset match those in the GeoJSON file:\n",
    "1. Extract the list of State names from the GeoJSON file(NAME_1 property).\n",
    "2. Extract the list of State names from the COVID-19 DataFrame.\n",
    "3. Identifies state that are present in GeoJSON but missing in df_covid.\n",
    "4. Manually corrects known mismatches (e.g;, \"Dadra and Nagra HAveli and Daman and Diu\" is renamed to \"Dadra and NAgra Haveli\" to ensure consistency).\n",
    "This correction ensures that every state is correctly mapped to its respective COVID-19 data when visualized on the chlorpleth map.\"\"\"\n",
    "\n",
    "#Get list of states from GeoJSON \n",
    "geojson_states_names = [feature[\"properties\"][\"NAME_1\"] for feature in geojson_states[\"features\"]]\n",
    "\n",
    "#Get list of states from Dataframe\n",
    "df_covid_states = df_covid{\"State\"].unique()\n",
    "\n",
    "#Find missing data\n",
    "missing_states = set(geojson_states_names) - set(df_covid_states)\n",
    "print(\"States present in GeoJSON but missing in DataFrame:\", missing_states)\n",
    "\n",
    "#Fix known mismatches manually \n",
    "state_name_correction = {\n",
    "    \"Dadra and Nagra Haveli and Daman and Diu\" : \"Dadra and NAgra Haveli\""
   ]
  }
 ],
 "metadata": {
  "kernelspec": {
   "display_name": "Python 3 (ipykernel)",
   "language": "python",
   "name": "python3"
  },
  "language_info": {
   "codemirror_mode": {
    "name": "ipython",
    "version": 3
   },
   "file_extension": ".py",
   "mimetype": "text/x-python",
   "name": "python",
   "nbconvert_exporter": "python",
   "pygments_lexer": "ipython3",
   "version": "3.12.4"
  }
 },
 "nbformat": 4,
 "nbformat_minor": 5
}
