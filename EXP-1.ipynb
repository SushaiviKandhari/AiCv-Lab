{
 "cells": [
  {
   "cell_type": "code",
   "id": "initial_id",
   "metadata": {
    "collapsed": true,
    "ExecuteTime": {
     "end_time": "2025-02-19T05:04:28.516104Z",
     "start_time": "2025-02-19T05:04:28.508298Z"
    }
   },
   "source": [
    "import csv\n",
    "num_att = 6\n",
    "a = []\n",
    "print(\"The Given Training Data Set\\n\")\n",
    "filename = \"demo.csv\"\n",
    "\n",
    "with open(filename, \"r\") as csvfile:\n",
    "    reader = csv.reader(csvfile)\n",
    "    for row in reader:\n",
    "        a.append(row)\n",
    "        print(row)\n",
    "\n",
    "print(\"\\n\")\n",
    "print(\"The Initial value of the hypothesis:\")\n",
    "hypothesis = ['0'] * num_att\n",
    "print(hypothesis)\n",
    "\n",
    "for j in range(0, num_att):\n",
    "    hypothesis[j] = a[0][j]\n",
    "\n",
    "print(\"\\n\")\n",
    "print(\"Find-S: Finding a maximally specific hypothesis\\n\")\n",
    "\n",
    "for i in range(1, len(a)):  \n",
    "    if a[i][num_att] == 'Yes':\n",
    "        for j in range(0, num_att):\n",
    "            if a[i][j] != hypothesis[j]:  \n",
    "                hypothesis[j] = '?'\n",
    "    print(\"For Training Instance No: {0} \\nThe Hypothesis is:\".format(i), hypothesis)\n",
    "\n",
    "print(\"\\n\")\n",
    "print(\"The Maximally Specific Hypothesis is:\")\n",
    "print(hypothesis)"
   ],
   "outputs": [
    {
     "name": "stdout",
     "output_type": "stream",
     "text": [
      "The Given Training Data Set\n",
      "\n",
      "['Sunny', 'Warm', 'Normal ', 'Strong ', 'Warm', 'Same', 'Yes']\n",
      "['Sunny', 'Warm', 'High', 'Strong ', 'Warm', 'Same', 'Yes']\n",
      "['Rainy ', 'Cold', 'High', 'Strong ', 'Warm', 'Change', 'No']\n",
      "['Sunny', 'Warm', 'High', 'Strong ', 'Cool', 'Change', 'Yes']\n",
      "\n",
      "\n",
      "The Initial value of the hypothesis:\n",
      "['0', '0', '0', '0', '0', '0']\n",
      "\n",
      "\n",
      "Find-S: Finding a maximally specific hypothesis\n",
      "\n",
      "For Training Instance No: 1 \n",
      "The Hypothesis is: ['Sunny', 'Warm', '?', 'Strong ', 'Warm', 'Same']\n",
      "For Training Instance No: 2 \n",
      "The Hypothesis is: ['Sunny', 'Warm', '?', 'Strong ', 'Warm', 'Same']\n",
      "For Training Instance No: 3 \n",
      "The Hypothesis is: ['Sunny', 'Warm', '?', 'Strong ', '?', '?']\n",
      "\n",
      "\n",
      "The Maximally Specific Hypothesis is:\n",
      "['Sunny', 'Warm', '?', 'Strong ', '?', '?']\n"
     ]
    }
   ],
   "execution_count": 2
  },
  {
   "metadata": {},
   "cell_type": "code",
   "outputs": [],
   "execution_count": null,
   "source": "",
   "id": "676a7dfd1a7b7e0c"
  }
 ],
 "metadata": {
  "kernelspec": {
   "display_name": "Python 3",
   "language": "python",
   "name": "python3"
  },
  "language_info": {
   "codemirror_mode": {
    "name": "ipython",
    "version": 2
   },
   "file_extension": ".py",
   "mimetype": "text/x-python",
   "name": "python",
   "nbconvert_exporter": "python",
   "pygments_lexer": "ipython2",
   "version": "2.7.6"
  }
 },
 "nbformat": 4,
 "nbformat_minor": 5
}
